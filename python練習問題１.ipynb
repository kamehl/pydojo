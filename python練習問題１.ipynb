{
  "nbformat": 4,
  "nbformat_minor": 0,
  "metadata": {
    "colab": {
      "name": "python練習問題１.ipynb",
      "provenance": [],
      "collapsed_sections": [],
      "toc_visible": true,
      "authorship_tag": "ABX9TyMOFwlwIHLL75RS83DojMvY",
      "include_colab_link": true
    },
    "kernelspec": {
      "name": "python3",
      "display_name": "Python 3"
    },
    "language_info": {
      "name": "python"
    }
  },
  "cells": [
    {
      "cell_type": "markdown",
      "metadata": {
        "id": "view-in-github",
        "colab_type": "text"
      },
      "source": [
        "<a href=\"https://colab.research.google.com/github/kamehl/pydojo/blob/main/python%E7%B7%B4%E7%BF%92%E5%95%8F%E9%A1%8C%EF%BC%91.ipynb\" target=\"_parent\"><img src=\"https://colab.research.google.com/assets/colab-badge.svg\" alt=\"Open In Colab\"/></a>"
      ]
    },
    {
      "cell_type": "markdown",
      "source": [
        "#Lesson1 基本問題"
      ],
      "metadata": {
        "id": "m-67vS7N8bSO"
      }
    },
    {
      "cell_type": "markdown",
      "source": [
        "##ex1"
      ],
      "metadata": {
        "id": "GLLwfDWG8yTp"
      }
    },
    {
      "cell_type": "markdown",
      "source": [
        "17より小さい数字を渡すと17との差を返すが、17より大きい数字を渡すと差の2乗を返す関数を作成せよ"
      ],
      "metadata": {
        "id": "k4s1aaYP84Ku"
      }
    },
    {
      "cell_type": "code",
      "source": [
        "def func1(n):\n"
      ],
      "metadata": {
        "id": "RJuizMyj8hm6"
      },
      "execution_count": null,
      "outputs": []
    },
    {
      "cell_type": "markdown",
      "source": [
        "テストコード"
      ],
      "metadata": {
        "id": "t5yAvhGmGNvk"
      }
    },
    {
      "cell_type": "code",
      "source": [
        "assert func1(0) == 17\n",
        "assert func1(15) == 2\n",
        "assert func1(17) == 0\n",
        "assert func1(19) == 4\n",
        "assert func1(100) == 6889"
      ],
      "metadata": {
        "id": "IFqxZ4Do87iL"
      },
      "execution_count": null,
      "outputs": []
    },
    {
      "cell_type": "markdown",
      "source": [
        "##ex2"
      ],
      "metadata": {
        "id": "TwhwNPDP_tDy"
      }
    },
    {
      "cell_type": "markdown",
      "source": [
        "1000か2000との差が100以下の数であることを判定する関数を作成せよ"
      ],
      "metadata": {
        "id": "-yE61X8q_wOt"
      }
    },
    {
      "cell_type": "code",
      "source": [
        "def func2(n):\n",
        "    "
      ],
      "metadata": {
        "id": "kxK_zp1s9UBb"
      },
      "execution_count": null,
      "outputs": []
    },
    {
      "cell_type": "markdown",
      "source": [
        "テストコード"
      ],
      "metadata": {
        "id": "buHxyDaYGR62"
      }
    },
    {
      "cell_type": "code",
      "source": [
        "assert func2(899) == False\n",
        "assert func2(900) == True\n",
        "assert func2(1100) == True\n",
        "assert func2(1101) == False\n",
        "assert func2(1899) == False\n",
        "assert func2(1900) == True\n",
        "assert func2(2100) == True\n",
        "assert func2(2101) == False"
      ],
      "metadata": {
        "id": "ckspjAe4_Lu4"
      },
      "execution_count": null,
      "outputs": []
    },
    {
      "cell_type": "markdown",
      "source": [
        "##ex3"
      ],
      "metadata": {
        "id": "j8b_O9ViDRWI"
      }
    },
    {
      "cell_type": "markdown",
      "source": [
        "アルファベットを1文字渡すとそのアルファベットが子音か母音かを判定する関数を作成せよ"
      ],
      "metadata": {
        "id": "TZOF32SmDVAR"
      }
    },
    {
      "cell_type": "code",
      "source": [
        "def func3(s):\n",
        "    "
      ],
      "metadata": {
        "id": "S8XC4HeW_Uea"
      },
      "execution_count": null,
      "outputs": []
    },
    {
      "cell_type": "markdown",
      "source": [
        "テストコード"
      ],
      "metadata": {
        "id": "zgh1_wfeGUbo"
      }
    },
    {
      "cell_type": "code",
      "source": [
        "assert func3(\"a\") == \"vowel\"\n",
        "assert func3(\"b\") == \"consonant\"\n",
        "assert func3(\"c\") == \"consonant\"\n",
        "assert func3(\"d\") == \"consonant\"\n",
        "assert func3(\"e\") == \"vowel\""
      ],
      "metadata": {
        "id": "ETI7NVbwDgMa"
      },
      "execution_count": null,
      "outputs": []
    },
    {
      "cell_type": "markdown",
      "source": [
        "##ex4"
      ],
      "metadata": {
        "id": "ByTScE5_G4HJ"
      }
    },
    {
      "cell_type": "markdown",
      "source": [
        "文字列と数字を渡すと、文字列の先頭2文字を数字の回数だけ繰り返した文字列を返す関数を作成せよ\n",
        "\n",
        "ただし、渡した文字列が1文字の場合、その文字を数字の回数だけ繰り返した文字列を返すこと"
      ],
      "metadata": {
        "id": "QbbTnlnpG74k"
      }
    },
    {
      "cell_type": "code",
      "source": [
        "def func4(s, n):\n",
        "    "
      ],
      "metadata": {
        "id": "_TSkvz1VDl4U"
      },
      "execution_count": null,
      "outputs": []
    },
    {
      "cell_type": "markdown",
      "source": [
        "テストコード"
      ],
      "metadata": {
        "id": "tNNXpMvVIrbC"
      }
    },
    {
      "cell_type": "code",
      "source": [
        "assert func4(\"ab\", 8) == \"abababababababab\"\n",
        "assert func4(\"abc\", 10) == \"abababababababababab\"\n",
        "assert func4(\"abcdefg\", 20) == \"abababababababababababababababababababab\"\n",
        "assert func4(\"a\", 2) == \"aa\""
      ],
      "metadata": {
        "id": "eFnTHQ45Hd2f"
      },
      "execution_count": null,
      "outputs": []
    },
    {
      "cell_type": "markdown",
      "source": [
        "##ex5"
      ],
      "metadata": {
        "id": "9ipNsIXIJQwm"
      }
    },
    {
      "cell_type": "markdown",
      "source": [
        "数字3個をリストで渡すと合計を返すが、3個の数字がすべて同じであれば合計の3\n",
        "倍を返す関数を作成せよ"
      ],
      "metadata": {
        "id": "3WfeV3-fZMk4"
      }
    },
    {
      "cell_type": "code",
      "source": [
        "def func5(a):\n",
        "    "
      ],
      "metadata": {
        "id": "J2LxYlaCHpig"
      },
      "execution_count": null,
      "outputs": []
    },
    {
      "cell_type": "markdown",
      "source": [
        "テストコード"
      ],
      "metadata": {
        "id": "zKkdU2rAZKku"
      }
    },
    {
      "cell_type": "code",
      "source": [
        "assert func5([1, 2, 3]) == 6\n",
        "assert func5([2, 2, 2]) == 18\n",
        "assert func5([2, 4, 6]) == 12\n",
        "assert func5([5, 5, 5]) == 45"
      ],
      "metadata": {
        "id": "3N12G_aUJf-3"
      },
      "execution_count": null,
      "outputs": []
    },
    {
      "cell_type": "markdown",
      "source": [
        "#Lesson2 応用問題"
      ],
      "metadata": {
        "id": "LCsXFj6lZB36"
      }
    },
    {
      "cell_type": "markdown",
      "source": [
        "##ex6 BMI計算"
      ],
      "metadata": {
        "id": "rKiNvoY9ZFE2"
      }
    },
    {
      "cell_type": "markdown",
      "source": [
        "BMIを計算する関数を作成せよ\n",
        "\n",
        ">$BMI = 体重[kg] ÷ (身長[m])^2$\n",
        "\n",
        "ただし、小数点以下２桁まで（未満は切り捨て）"
      ],
      "metadata": {
        "id": "8xZyPQSCZfPr"
      }
    },
    {
      "cell_type": "code",
      "source": [
        "def func6(h, w):\n",
        "    "
      ],
      "metadata": {
        "id": "o-ZPzrYQZEJ7"
      },
      "execution_count": null,
      "outputs": []
    },
    {
      "cell_type": "markdown",
      "source": [
        "テストコード"
      ],
      "metadata": {
        "id": "Tpjkk9tUedy5"
      }
    },
    {
      "cell_type": "code",
      "source": [
        "assert func6(1.60, 60) == 23.43\n",
        "assert func6(1.65, 65) == 23.87\n",
        "assert func6(1.70, 70) == 24.22\n",
        "assert func6(1.75, 75) == 24.48"
      ],
      "metadata": {
        "id": "wzW67ndFbbr4"
      },
      "execution_count": null,
      "outputs": []
    },
    {
      "cell_type": "markdown",
      "source": [
        "##ex7 BMI判定"
      ],
      "metadata": {
        "id": "5RNoW2x_b1kL"
      }
    },
    {
      "cell_type": "markdown",
      "source": [
        "BMIをから肥満度や健康状態を確認する関数を作成せよ\n",
        "\n",
        "なお、BMIの判定基準は次のようにする\n",
        "\n",
        "* 18.5未満は「痩せすぎ」\n",
        "* 18.5以上25未満が「標準」\n",
        "* 25以上が「肥満」\n",
        "* 22 $±$ 10%の人は「健康」\n",
        "* 23以上24未満の人は「長生き」\n",
        "\n",
        "ちなみに、BMIは次のようなことが知られている\n",
        "\n",
        "* 健康診断の結果に異常がない人が最も多いのは22前後\n",
        "* 最も長生きするのは23〜24の人\n",
        "\n",
        "\n"
      ],
      "metadata": {
        "id": "jsaDN5UcjsfU"
      }
    },
    {
      "cell_type": "code",
      "source": [
        "def func7(h, w):\n",
        "    "
      ],
      "metadata": {
        "id": "woIJR7LBfyYL"
      },
      "execution_count": null,
      "outputs": []
    },
    {
      "cell_type": "markdown",
      "source": [
        "テストコード"
      ],
      "metadata": {
        "id": "PWkGHNzjjoV2"
      }
    },
    {
      "cell_type": "code",
      "source": [
        "assert func7(1.70, 50) == \"あなたは「痩せすぎ」です。\"\n",
        "assert func7(1.70, 60) == \"あなたは「標準」です。\"\n",
        "assert func7(1.70, 64) == \"あなたは「健康」です。\"\n",
        "assert func7(1.70, 68) == \"あなたは「長生き」です。\"\n",
        "assert func7(1.70, 80) == \"あなたは「肥満」です。\""
      ],
      "metadata": {
        "id": "tmlyhvZ4h-x5"
      },
      "execution_count": null,
      "outputs": []
    },
    {
      "cell_type": "markdown",
      "source": [
        "##ex8 温度変換"
      ],
      "metadata": {
        "id": "Jb6a1Fysid-u"
      }
    },
    {
      "cell_type": "markdown",
      "source": [
        "華氏と摂氏を相互に変換する関数を作成せよ\n",
        "\n",
        "ただし、華氏は「F」を、摂氏は「C」を、それぞれ数字の後に付けた文字列で表すこととする\n",
        "\n",
        "なお、華氏と摂氏の変換式は次のとおり\n",
        "\n",
        ">$(F - 32) × 5 ÷ 9 = C$\n",
        "\n",
        "変換後の数値は小数点1桁まで（未満は四捨五入）\n",
        "\n",
        "※もし可能なら、変換できない不明な入力には「無効」を返すこと"
      ],
      "metadata": {
        "id": "uI0hKAFRzsxJ"
      }
    },
    {
      "cell_type": "code",
      "source": [
        "def func8(s):\n",
        "    "
      ],
      "metadata": {
        "id": "mhzBSJWh0LRI"
      },
      "execution_count": null,
      "outputs": []
    },
    {
      "cell_type": "code",
      "source": [
        "assert func8(\"32F\") == \"0.0C\"\n",
        "assert func8(\"4C\") == \"39.2F\"\n",
        "assert func8(\"212f\") == \"100.0C\"\n",
        "assert func8(\"-4c\") == \"24.8F\"\n",
        "assert func8(\"5X\") == \"無効\"\n",
        "assert func8(\"!5F\") == \"無効\""
      ],
      "metadata": {
        "id": "T9QEcTba18Hl"
      },
      "execution_count": null,
      "outputs": []
    },
    {
      "cell_type": "markdown",
      "source": [
        "#lesson3 RSA暗号① 〜準備〜"
      ],
      "metadata": {
        "id": "zHUJQrS82CRV"
      }
    },
    {
      "cell_type": "markdown",
      "source": [
        "##ex9 桁の大きい指数関数"
      ],
      "metadata": {
        "id": "B4lK60iU-7sA"
      }
    },
    {
      "cell_type": "markdown",
      "source": [
        "$n^{n^n}$ の１の桁を計算する関数を作成せよ"
      ],
      "metadata": {
        "id": "2QjxEMUldaMi"
      }
    },
    {
      "cell_type": "code",
      "source": [
        "def func9(n):\n",
        "    "
      ],
      "metadata": {
        "id": "QYIV8UbN-966"
      },
      "execution_count": null,
      "outputs": []
    },
    {
      "cell_type": "markdown",
      "source": [
        "テストコード\n",
        "\n",
        "※処理が止められなくなった場合、右上のメニューから一旦セッションを切断すると止まる"
      ],
      "metadata": {
        "id": "6TKNvnoteARl"
      }
    },
    {
      "cell_type": "code",
      "source": [
        "assert func9(3) == 7\n",
        "assert func9(7) == 3\n",
        "assert func9(13) == 3\n",
        "assert func9(432) == 6"
      ],
      "metadata": {
        "id": "nlZymGtbb15X"
      },
      "execution_count": null,
      "outputs": []
    },
    {
      "cell_type": "markdown",
      "source": [
        "##ex10 16進ダンプ"
      ],
      "metadata": {
        "id": "aM2yV7ZXchQK"
      }
    },
    {
      "cell_type": "markdown",
      "source": [
        "文字列を16進ダンプする関数せよ\n",
        "\n",
        "ただし、日本語は「utf-8」で扱うこと"
      ],
      "metadata": {
        "id": "dT0FI0aFiTMG"
      }
    },
    {
      "cell_type": "code",
      "source": [
        "def func10(s):\n",
        "    "
      ],
      "metadata": {
        "id": "PKX7kFVDeO-X"
      },
      "execution_count": null,
      "outputs": []
    },
    {
      "cell_type": "markdown",
      "source": [
        "テストコード"
      ],
      "metadata": {
        "id": "smy3GQ3KirNs"
      }
    },
    {
      "cell_type": "code",
      "source": [
        "assert func10(\"Caeleb Remel Dressel\") == \"4361656C65622052656D656C204472657373656C\"\n",
        "assert func10(\"Lamont Marcell Jacobs\") == \"4C616D6F6E74204D617263656C6C204A61636F6273\"\n",
        "assert func10(\"西矢椛\") == \"E8A5BFE79FA2E6A49B\"\n",
        "assert func10(\"堀米雄斗\") == \"E5A080E7B1B3E99B84E69697\""
      ],
      "metadata": {
        "id": "kWPVNxv5fIDb"
      },
      "execution_count": null,
      "outputs": []
    },
    {
      "cell_type": "markdown",
      "source": [
        "##ex11 16進→10進変換"
      ],
      "metadata": {
        "id": "7xvAFfXOi_VT"
      }
    },
    {
      "cell_type": "markdown",
      "source": [
        "16進数を10進数に変換する関数"
      ],
      "metadata": {
        "id": "bVMBQ1vyfJsn"
      }
    },
    {
      "cell_type": "code",
      "source": [
        "def func11(s):\n",
        "    "
      ],
      "metadata": {
        "id": "spc-fO0qjOko"
      },
      "execution_count": null,
      "outputs": []
    },
    {
      "cell_type": "markdown",
      "source": [
        "テストコード"
      ],
      "metadata": {
        "id": "dMhuj0QFkIKZ"
      }
    },
    {
      "cell_type": "code",
      "source": [
        "assert func11(\"4361656C65622052656D656C204472657373656C\") == 384674389155590982046234764697110782161450132844\n",
        "assert func11(\"4C616D6F6E74204D617263656C6C204A61636F6273\") == 111630337030194331012420294446637731487233908630131\n",
        "assert func11(\"E8A5BFE79FA2E6A49B\") == 4291588144510244660379\n",
        "assert func11(\"E5A080E7B1B3E99B84E69697\") == 71066104117138884767124985495"
      ],
      "metadata": {
        "id": "EILKQW6vjWXQ"
      },
      "execution_count": null,
      "outputs": []
    },
    {
      "cell_type": "markdown",
      "source": [
        "##ex12 10進→文字列変換"
      ],
      "metadata": {
        "id": "WVlWXdR0jZjY"
      }
    },
    {
      "cell_type": "markdown",
      "source": [
        "10進数を文字列に変換する関数\n",
        "\n",
        "ただし、他バイト文字は「utf-8」で扱う"
      ],
      "metadata": {
        "id": "_LjYeHrXAdAj"
      }
    },
    {
      "cell_type": "code",
      "source": [
        "def func12(n):\n",
        "    "
      ],
      "metadata": {
        "id": "aLEN7fG9kzUb"
      },
      "execution_count": null,
      "outputs": []
    },
    {
      "cell_type": "markdown",
      "source": [
        "テストコード"
      ],
      "metadata": {
        "id": "VZN6Xx_rAvZN"
      }
    },
    {
      "cell_type": "code",
      "source": [
        "assert func12(384674389155590982046234764697110782161450132844) == \"Caeleb Remel Dressel\"\n",
        "assert func12(111630337030194331012420294446637731487233908630131) ==\"Lamont Marcell Jacobs\"\n",
        "assert func12(4291588144510244660379) == \"西矢椛\"\n",
        "assert func12(71066104117138884767124985495) == \"堀米雄斗\""
      ],
      "metadata": {
        "id": "bV8byqddlGua"
      },
      "execution_count": null,
      "outputs": []
    },
    {
      "cell_type": "markdown",
      "source": [
        "#Lesson4 RSA暗号② 〜暗号化と復号〜"
      ],
      "metadata": {
        "id": "TCR5jWda8_h_"
      }
    },
    {
      "cell_type": "markdown",
      "source": [
        "##ex13 RSA暗号（暗号化）"
      ],
      "metadata": {
        "id": "wh1KCFGVDmeS"
      }
    },
    {
      "cell_type": "markdown",
      "source": [
        "次のパラメータを使って数値をRSAで暗号化する関数を作成せよ\n",
        "\n",
        "<pre>\n",
        "p = 1223608816783989526977697142729\n",
        "q = 1181419059721907087891844374533\n",
        "N = 1445594777792376190871161299886642462542562458520846233720557\n",
        "e = 65537\n",
        "</pre>\n",
        "\n",
        "※$N = p × q$\n",
        "\n",
        "ただし、暗号文Cと平文Mの関係は次のとおり\n",
        "\n",
        ">$C = M^e mod N$\n"
      ],
      "metadata": {
        "id": "fb07kb4T90pj"
      }
    },
    {
      "cell_type": "code",
      "source": [
        "p = 1223608816783989526977697142729\n",
        "q = 1181419059721907087891844374533\n",
        "N = 1445594777792376190871161299886642462542562458520846233720557\n",
        "e = 65537"
      ],
      "metadata": {
        "id": "RUUdSGIP8Phq"
      },
      "execution_count": null,
      "outputs": []
    },
    {
      "cell_type": "code",
      "source": [
        "def func13(m):\n",
        "    "
      ],
      "metadata": {
        "id": "USLaGX318nta"
      },
      "execution_count": null,
      "outputs": []
    },
    {
      "cell_type": "markdown",
      "source": [
        "テストコード"
      ],
      "metadata": {
        "id": "NFt3hcYC-2eq"
      }
    },
    {
      "cell_type": "code",
      "source": [
        "assert func13(384674389155590982046234764697110782161450132844) == 933724396887774009673956822287392949344951453324424927225843\n",
        "assert func13(111630337030194331012420294446637731487233908630131) == 96166222195780378773068570820947104808959039543354452361988\n",
        "assert func13(4291588144510244660379) == 259428661535051310743580900142038188754161976801949527257666\n",
        "assert func13(71066104117138884767124985495) == 251132345489958486648793004527006641296516405032422636490685"
      ],
      "metadata": {
        "id": "O__kvzBy9CKy"
      },
      "execution_count": null,
      "outputs": []
    },
    {
      "cell_type": "markdown",
      "source": [
        "作った暗号文を復号する関数を作りたいが、そのためには復号鍵$d$を計算する必要がある\n",
        "\n",
        "RSAの秘密鍵$d$は公開鍵$e$と次の関係を満たす\n",
        "\n",
        ">$e×d ≡ 1 \\quad mod \\phi $<br>\n",
        ">$\\phi = (p-1)×(q-1)$\n",
        "\n",
        "「$≡$」 や 「$mod \\phi$」 は剰余計算の合同式（左辺と右辺の$\\phi$で割った余りが等しいこと）を表す\n",
        "\n",
        "※面倒なので、以降は「$≡$」を「$=$」と書く\n"
      ],
      "metadata": {
        "id": "GVSLbGnXCRn3"
      }
    },
    {
      "cell_type": "markdown",
      "source": [
        "##ex14 モジュラ逆数の計算（総当たり）"
      ],
      "metadata": {
        "id": "L9hNL5_y_wP0"
      }
    },
    {
      "cell_type": "markdown",
      "source": [
        "２つの素数$p,q$を与えた時、次の関係式を満たす$d$を**総当たりで**探す関数を作成せよ\n",
        "\n",
        ">$e×d ≡ 1 \\quad mod \\phi $<br>\n",
        ">$\\phi = (p-1)×(q-1)$\n",
        "\n",
        "ただし、$e = 65537, \\quad d < (p-1)×(q-1)$"
      ],
      "metadata": {
        "id": "o0tLpEAAJa5w"
      }
    },
    {
      "cell_type": "code",
      "source": [
        "e = 65537"
      ],
      "metadata": {
        "id": "4WEEjUWy_N2S"
      },
      "execution_count": null,
      "outputs": []
    },
    {
      "cell_type": "code",
      "source": [
        "def func14(p, q):\n",
        "    "
      ],
      "metadata": {
        "id": "k6tKazT8GDCU"
      },
      "execution_count": null,
      "outputs": []
    },
    {
      "cell_type": "markdown",
      "source": [
        "テストコード"
      ],
      "metadata": {
        "id": "VvWEKBjhKWWl"
      }
    },
    {
      "cell_type": "code",
      "source": [
        "assert func14(659, 643) == 232937\n",
        "assert func14(821, 769) == 197633\n",
        "assert func14(691, 941) == 274673"
      ],
      "metadata": {
        "id": "QY_rY45TG22D"
      },
      "execution_count": null,
      "outputs": []
    },
    {
      "cell_type": "markdown",
      "source": [
        "テストコード２\n",
        "\n",
        "※終了まで少し時間がかかります（30秒くらい）"
      ],
      "metadata": {
        "id": "m5emqsoqMOcg"
      }
    },
    {
      "cell_type": "code",
      "source": [
        "assert func14(17519, 24611) == 108290953"
      ],
      "metadata": {
        "id": "srucUW-KK_YE"
      },
      "execution_count": null,
      "outputs": []
    },
    {
      "cell_type": "markdown",
      "source": [
        "テストコード３\n",
        "\n",
        "※終了までさらに時間がかかります（２〜３分）"
      ],
      "metadata": {
        "id": "lHhT-WsRRDDX"
      }
    },
    {
      "cell_type": "code",
      "source": [
        "assert func14(36373, 64901) == 841967873"
      ],
      "metadata": {
        "id": "YeXrgkT7LJeT"
      },
      "execution_count": null,
      "outputs": []
    },
    {
      "cell_type": "markdown",
      "source": [
        "以上の結果から、$p,q$が大きくなると総当たりで$d$を計算するのはキツいことが分かる\n"
      ],
      "metadata": {
        "id": "AgnylN4XV7AA"
      }
    },
    {
      "cell_type": "markdown",
      "source": [
        "そこで、別の方法を考える\n",
        "\n",
        "\n",
        "---\n",
        "\n",
        "\n",
        "２つの整数 $(a, b)$ に対する不定方程式\n",
        "\n",
        ">$ax+by = gcd(a,b)$\n",
        "\n",
        "の解$(x,y)$は高速に計算できる\n",
        "\n",
        "\n",
        "---\n",
        "\n",
        "ことが知られている\n",
        "\n",
        "※$gcd(a,b)$は$a$と$b$の最大公約数\n"
      ],
      "metadata": {
        "id": "vhxba3wSWlop"
      }
    },
    {
      "cell_type": "markdown",
      "source": [
        "例えば\n",
        "\n",
        ">$(a,b) = (e, \\phi)$<br>$gcd(e, \\phi) = 1$\n",
        "\n",
        "とすると\n",
        "\n",
        ">$ex+\\phi y = 1$\n",
        "\n",
        "両辺で$\\phi$の剰余を計算すると\n",
        "\n",
        ">$ex = 1 \\quad mod \\phi$\n",
        "\n",
        "となり、$d$ $(=x)$ が求まる\n"
      ],
      "metadata": {
        "id": "5IdiUWZuBMiv"
      }
    },
    {
      "cell_type": "markdown",
      "source": [
        "##ex15 ユークリッドの互除法"
      ],
      "metadata": {
        "id": "Bon1QpzgVv19"
      }
    },
    {
      "cell_type": "markdown",
      "source": [
        "$gcd(e, \\phi)=1$ を確認するため、２つの素数 $(p,q)$ から$gcd(e, \\phi)$を計算する関数を作成せよ\n",
        "\n",
        "ただし、\n",
        ">$e = 65537$ <br> $\\phi=(p-1)\\times(q-1)$\n",
        "\n",
        "※「ユークリッドの互除法」を実装するのが望ましいが、mathモジュールのmath.gcd(a, b)関数を使っても良い"
      ],
      "metadata": {
        "id": "K113XHbqrVbn"
      }
    },
    {
      "cell_type": "code",
      "source": [
        "e = 65537"
      ],
      "metadata": {
        "id": "l4W3AHLRBwTl"
      },
      "execution_count": null,
      "outputs": []
    },
    {
      "cell_type": "code",
      "source": [
        "def func15(p, q):\n",
        "    "
      ],
      "metadata": {
        "id": "megInMOEs2JU"
      },
      "execution_count": null,
      "outputs": []
    },
    {
      "cell_type": "markdown",
      "source": [
        "テストコード"
      ],
      "metadata": {
        "id": "VY5j3yCWuKh6"
      }
    },
    {
      "cell_type": "code",
      "source": [
        "assert func15(36373, 64901) == 1\n",
        "assert func15(915349060633981, 879702975012439) == 1\n",
        "assert func15(1223608816783989526977697142729, 1181419059721907087891844374533) == 1"
      ],
      "metadata": {
        "id": "FDu2cYLpsnCs"
      },
      "execution_count": null,
      "outputs": []
    },
    {
      "cell_type": "markdown",
      "source": [
        "※もしも$gcd(e, (p-1)×(q-1)) ≠ 1$だったら、$d$が決まらず復号できない"
      ],
      "metadata": {
        "id": "LHsg-NTWZqit"
      }
    },
    {
      "cell_type": "markdown",
      "source": [
        "##ex16 拡張ユークリッドの互除法"
      ],
      "metadata": {
        "id": "XQ-82nWFqM1c"
      }
    },
    {
      "cell_type": "markdown",
      "source": [
        "２つの素数（a, b）から次の関係式を満たす$x$を計算する関数を作成せよ\n",
        "\n",
        ">$ax = 1 \\quad mod (b)$\n",
        "\n",
        "※不定方程式の解は「拡張ユークリッドの互除法」で実装するのが望ましいが、sympyモジュールのgcdex関数を使っても良い\n",
        "\n",
        "※$x$は負の値の場合もあるので、最後に$b$の剰余を計算しておくと良い"
      ],
      "metadata": {
        "id": "AZWDS-thZTcO"
      }
    },
    {
      "cell_type": "code",
      "source": [
        "def func16(a, b):\n",
        "    "
      ],
      "metadata": {
        "id": "RSfQNhJYanM9"
      },
      "execution_count": null,
      "outputs": []
    },
    {
      "cell_type": "markdown",
      "source": [
        "テストコード"
      ],
      "metadata": {
        "id": "-49JfCIbp-mE"
      }
    },
    {
      "cell_type": "code",
      "source": [
        "assert func16(73571, 1072894853) == 192905535\n",
        "assert func16(64901, 1207471893509091040314362866849) == 920734295894846096271513596362\n",
        "assert func16(81119, 1375780239273875130104284840151075796433493450132783529632293) == 237152024627603840582948691673128278967067381417506528616580"
      ],
      "metadata": {
        "id": "UC9y1WYgbn7C"
      },
      "execution_count": null,
      "outputs": []
    },
    {
      "cell_type": "markdown",
      "source": [
        "今回は大きな数字でも $d$ が高速に計算できている"
      ],
      "metadata": {
        "id": "ifrOVwJNaV1K"
      }
    },
    {
      "cell_type": "markdown",
      "source": [
        "##ex17 RSA暗号（復号）"
      ],
      "metadata": {
        "id": "wY23Q_VGznBY"
      }
    },
    {
      "cell_type": "markdown",
      "source": [
        "以上のことを踏まえて、復号関数を作成せよ\n",
        "\n",
        "ただし、暗号文Cを平文Mに復号する関数は次のとおり\n",
        "\n",
        ">$M = C^d mod N$"
      ],
      "metadata": {
        "id": "WwPCkBxE1DzW"
      }
    },
    {
      "cell_type": "markdown",
      "source": [
        "また、秘密鍵 $d$ はex16の結果を利用すると計算できて"
      ],
      "metadata": {
        "id": "9Iq-ggtQ1Pil"
      }
    },
    {
      "cell_type": "code",
      "source": [
        "p = 1223608816783989526977697142729\n",
        "q = 1181419059721907087891844374533\n",
        "e = 65537\n",
        "\n",
        "func16(e, (p-1)*(q-1))"
      ],
      "metadata": {
        "colab": {
          "base_uri": "https://localhost:8080/"
        },
        "id": "-Zvmvh400q74",
        "outputId": "88a3ccda-087a-424f-cfc0-e1f0966a9c2b"
      },
      "execution_count": null,
      "outputs": [
        {
          "output_type": "execute_result",
          "data": {
            "text/plain": [
              "904012334605531925578889401627410272401142288068641359129345"
            ]
          },
          "metadata": {},
          "execution_count": 149
        }
      ]
    },
    {
      "cell_type": "markdown",
      "source": [
        "だから"
      ],
      "metadata": {
        "id": "keVFGVAN1XqP"
      }
    },
    {
      "cell_type": "code",
      "source": [
        "N = 1445594777792376190871161299886642462542562458520846233720557\n",
        "d = 904012334605531925578889401627410272401142288068641359129345\n",
        "\n",
        "def func17(c):\n",
        "    "
      ],
      "metadata": {
        "id": "JHWIA-9vzphY"
      },
      "execution_count": null,
      "outputs": []
    },
    {
      "cell_type": "markdown",
      "source": [
        "テストコード"
      ],
      "metadata": {
        "id": "a7CgxuI31yyi"
      }
    },
    {
      "cell_type": "code",
      "source": [
        "assert func17(933724396887774009673956822287392949344951453324424927225843) == 384674389155590982046234764697110782161450132844\n",
        "assert func17(96166222195780378773068570820947104808959039543354452361988) == 111630337030194331012420294446637731487233908630131\n",
        "assert func17(259428661535051310743580900142038188754161976801949527257666) == 4291588144510244660379\n",
        "assert func17(251132345489958486648793004527006641296516405032422636490685) == 71066104117138884767124985495 "
      ],
      "metadata": {
        "id": "BxWqSgCUzxy0"
      },
      "execution_count": null,
      "outputs": []
    },
    {
      "cell_type": "markdown",
      "source": [
        "#Lesson5 RSA暗号③ 〜練習問題〜"
      ],
      "metadata": {
        "id": "_DvfhIkh8VoC"
      }
    },
    {
      "cell_type": "markdown",
      "source": [
        "##ex18 練習問題１"
      ],
      "metadata": {
        "id": "fg3YtpJ64bpA"
      }
    },
    {
      "cell_type": "markdown",
      "source": [
        "ある文字列を次のように暗号化した\n",
        "\n",
        "```\n",
        "print(func13(func11(func10(\"★★★★★★\"))))\n",
        "print(func13(func11(func10(\"■■■■■■\"))))\n",
        "print(func13(func11(func10(\"▶︎▶︎▶︎▶︎▶︎▶︎\"))))\n",
        "```\n",
        "\n",
        "それぞれ結果は次のとおり\n",
        "\n",
        "```\n",
        "1003877171348949160374299553769977330726090328065100116050778\n",
        "225647961907964819754026097296433612017266008485331217477479\n",
        "159418251333432300444122281769765489025932051607611723427661\n",
        "```\n",
        "\n",
        "元の文字列を復号せよ"
      ],
      "metadata": {
        "id": "OtcW2C-92IJI"
      }
    },
    {
      "cell_type": "code",
      "source": [
        ""
      ],
      "metadata": {
        "id": "1eYUnl_YONWl"
      },
      "execution_count": null,
      "outputs": []
    },
    {
      "cell_type": "markdown",
      "source": [
        "##ex19 練習問題２"
      ],
      "metadata": {
        "id": "D1no0iF1M3Zq"
      }
    },
    {
      "cell_type": "markdown",
      "source": [
        "次のパラーメータでRSA暗号化した暗号文を復号する関数を作成せよ"
      ],
      "metadata": {
        "id": "td7M0S48M8UB"
      }
    },
    {
      "cell_type": "markdown",
      "source": [
        "\n",
        "\n",
        "```\n",
        "p = 99280930794300920071382774999216354524467420720528123759974588765034074663876045012987508905100128519759656290036198160476599881414260590989088460633320720729553296458254250825593914337729366809693487561815522430135404840009054317649002737463174582770508303823068955868689982831714452911982071223716649802469\n",
        "q = 100219261295560742240797249262241836429593803690430204413099950961916296187735281900162200626563247056460037491059010759261716848232442550563715171608821366962038603101580563641890422729098242769815241344092373705491169032776678296707049935771071818115217897562283195638162708850284681971687415194614231563837\n",
        "e = 65537\n",
        "```"
      ],
      "metadata": {
        "id": "PEyVWIWNMFxb"
      }
    },
    {
      "cell_type": "code",
      "source": [
        "p = 99280930794300920071382774999216354524467420720528123759974588765034074663876045012987508905100128519759656290036198160476599881414260590989088460633320720729553296458254250825593914337729366809693487561815522430135404840009054317649002737463174582770508303823068955868689982831714452911982071223716649802469\n",
        "q = 100219261295560742240797249262241836429593803690430204413099950961916296187735281900162200626563247056460037491059010759261716848232442550563715171608821366962038603101580563641890422729098242769815241344092373705491169032776678296707049935771071818115217897562283195638162708850284681971687415194614231563837\n",
        "e = 65537"
      ],
      "metadata": {
        "id": "3JdHmytGMdjT"
      },
      "execution_count": null,
      "outputs": []
    },
    {
      "cell_type": "markdown",
      "source": [
        "暗号文\n",
        "\n",
        "\n",
        "```\n",
        "c1 =  5993282892294268012337210646422460224942003682339814479302884022181417999114855972670712186545118220125662871519229929846646836121084304816649015386737099513475747449874780402119038224661422110585167929611841407240680162076463742265931238648499543704282525494309999633856049015070714887185020390388127522863038787024024971681295320738326637792964656596726338299837333044702246888328862024915305745845222013436536335920158802049683304981193846955698062770587725601229602815288132137856123708800724991975252889579775780660852492871832071628983023169299866211503370369088572285358877954624525621213978189430281298032646\n",
        "c2 = 2336409511515301298547613713805669698248801677012087786057830501685650092538851986158769315867383717531880893251879509173724747927988791995516999608829600380697658493739580397309777848549361780394898290309951442037981802516497561444266938575272668862506762747187662132887820853363257749315976620660964024077325598852336723615518659537997457586921076734858772380546261905233601169670405081331396013237534887055495226043808789346604646225739916037582803663028904004003447242618912882161431435149901381963797730750982328072738593117026750663183875159808706807269624132799819971700339717155999455769309288344415057241725\n",
        "c3 = 7600801810617642582567941203777532865788859636265801290463357246340886777897267579251637555777501840347042749808043518617765984847892272013790181195503979654412547622527341949081816441318181628937923304654746983239808392198887768652839410205513907360928586204587597343609040675266749862522460124733481516513231755377734833191373671270070488620526463738692447142845303160936163560592238301973610095029089056932271401012158701771413934357230110456848626470814363473199265058838669921844384882825396553078297447253066680649265731945526822596942367105937910408865091393058285705680803783025716020959286434428891496923594\n",
        "```\n",
        "\n",
        "ただし、平文はutf-8の文字列\n"
      ],
      "metadata": {
        "id": "vUtSpMmxSfCr"
      }
    },
    {
      "cell_type": "code",
      "source": [
        "def func19(c):\n",
        "    "
      ],
      "metadata": {
        "id": "Ve2IudzuRrMC"
      },
      "execution_count": null,
      "outputs": []
    },
    {
      "cell_type": "markdown",
      "source": [
        "テストコード"
      ],
      "metadata": {
        "id": "php_ZZhebDz3"
      }
    },
    {
      "cell_type": "code",
      "source": [
        "print(func19(5993282892294268012337210646422460224942003682339814479302884022181417999114855972670712186545118220125662871519229929846646836121084304816649015386737099513475747449874780402119038224661422110585167929611841407240680162076463742265931238648499543704282525494309999633856049015070714887185020390388127522863038787024024971681295320738326637792964656596726338299837333044702246888328862024915305745845222013436536335920158802049683304981193846955698062770587725601229602815288132137856123708800724991975252889579775780660852492871832071628983023169299866211503370369088572285358877954624525621213978189430281298032646))\n",
        "print(func19(2336409511515301298547613713805669698248801677012087786057830501685650092538851986158769315867383717531880893251879509173724747927988791995516999608829600380697658493739580397309777848549361780394898290309951442037981802516497561444266938575272668862506762747187662132887820853363257749315976620660964024077325598852336723615518659537997457586921076734858772380546261905233601169670405081331396013237534887055495226043808789346604646225739916037582803663028904004003447242618912882161431435149901381963797730750982328072738593117026750663183875159808706807269624132799819971700339717155999455769309288344415057241725))\n",
        "print(func19(7600801810617642582567941203777532865788859636265801290463357246340886777897267579251637555777501840347042749808043518617765984847892272013790181195503979654412547622527341949081816441318181628937923304654746983239808392198887768652839410205513907360928586204587597343609040675266749862522460124733481516513231755377734833191373671270070488620526463738692447142845303160936163560592238301973610095029089056932271401012158701771413934357230110456848626470814363473199265058838669921844384882825396553078297447253066680649265731945526822596942367105937910408865091393058285705680803783025716020959286434428891496923594))\n"
      ],
      "metadata": {
        "id": "_DQFmxFNO2M5"
      },
      "execution_count": null,
      "outputs": []
    }
  ]
}